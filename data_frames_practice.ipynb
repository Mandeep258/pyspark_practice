{
 "cells": [
  {
   "cell_type": "code",
   "execution_count": 1,
   "metadata": {},
   "outputs": [],
   "source": [
    "from pyspark.sql import SparkSession"
   ]
  },
  {
   "cell_type": "code",
   "execution_count": 3,
   "metadata": {},
   "outputs": [],
   "source": [
    "import pyspark.sql.functions as F\n",
    "from pyspark.sql.types import *"
   ]
  },
  {
   "cell_type": "code",
   "execution_count": 53,
   "metadata": {},
   "outputs": [],
   "source": [
    "from pyspark.sql.functions import udf"
   ]
  },
  {
   "cell_type": "code",
   "execution_count": 5,
   "metadata": {},
   "outputs": [],
   "source": [
    "spark = SparkSession.builder.appName('data_processing').getOrCreate()"
   ]
  },
  {
   "cell_type": "code",
   "execution_count": 4,
   "metadata": {},
   "outputs": [],
   "source": [
    "schema = StructType().add('user_id',\"string\").add(\"country\",\"string\").add(\"browser\",\"string\").add(\"OS\",\"string\").add(\"age\",\"integer\")"
   ]
  },
  {
   "cell_type": "code",
   "execution_count": 6,
   "metadata": {},
   "outputs": [],
   "source": [
    "df_custom = spark.createDataFrame([(\"A203\",'India',\"Chrome\",\"WIN\",33),(\"A201\",'China',\"Safari\",\"MacOS\",35),(\"A205\",'UK',\"Mozilla\",\"Linux\",25)],schema = schema)"
   ]
  },
  {
   "cell_type": "code",
   "execution_count": 8,
   "metadata": {},
   "outputs": [
    {
     "name": "stdout",
     "output_type": "stream",
     "text": [
      "root\n",
      " |-- user_id: string (nullable = true)\n",
      " |-- country: string (nullable = true)\n",
      " |-- browser: string (nullable = true)\n",
      " |-- OS: string (nullable = true)\n",
      " |-- age: integer (nullable = true)\n",
      "\n"
     ]
    }
   ],
   "source": [
    "df_custom.printSchema()"
   ]
  },
  {
   "cell_type": "code",
   "execution_count": 9,
   "metadata": {},
   "outputs": [
    {
     "name": "stdout",
     "output_type": "stream",
     "text": [
      "+-------+-------+-------+-----+---+\n",
      "|user_id|country|browser|   OS|age|\n",
      "+-------+-------+-------+-----+---+\n",
      "|   A203|  India| Chrome|  WIN| 33|\n",
      "|   A201|  China| Safari|MacOS| 35|\n",
      "|   A205|     UK|Mozilla|Linux| 25|\n",
      "+-------+-------+-------+-----+---+\n",
      "\n"
     ]
    }
   ],
   "source": [
    "df_custom.show()"
   ]
  },
  {
   "cell_type": "code",
   "execution_count": 10,
   "metadata": {},
   "outputs": [],
   "source": [
    "df_na=spark.createDataFrame([(\"A203\",None,\"Chrome\",\"WIN\",33),(\"A201\",'China',None,\"MacOS\",35),(\"A205\",'UK',\"Mozilla\",\"Linux\",25)],schema=schema)"
   ]
  },
  {
   "cell_type": "code",
   "execution_count": 11,
   "metadata": {},
   "outputs": [
    {
     "name": "stdout",
     "output_type": "stream",
     "text": [
      "+-------+-------+-------+-----+---+\n",
      "|user_id|country|browser|   OS|age|\n",
      "+-------+-------+-------+-----+---+\n",
      "|   A203|   null| Chrome|  WIN| 33|\n",
      "|   A201|  China|   null|MacOS| 35|\n",
      "|   A205|     UK|Mozilla|Linux| 25|\n",
      "+-------+-------+-------+-----+---+\n",
      "\n"
     ]
    }
   ],
   "source": [
    "df_na.show()"
   ]
  },
  {
   "cell_type": "code",
   "execution_count": 12,
   "metadata": {},
   "outputs": [
    {
     "name": "stdout",
     "output_type": "stream",
     "text": [
      "+-------+-------+-------+-----+---+\n",
      "|user_id|country|browser|   OS|age|\n",
      "+-------+-------+-------+-----+---+\n",
      "|   A203|      0| Chrome|  WIN| 33|\n",
      "|   A201|  China|      0|MacOS| 35|\n",
      "|   A205|     UK|Mozilla|Linux| 25|\n",
      "+-------+-------+-------+-----+---+\n",
      "\n"
     ]
    }
   ],
   "source": [
    "df_na.fillna('0').show()"
   ]
  },
  {
   "cell_type": "code",
   "execution_count": 13,
   "metadata": {},
   "outputs": [
    {
     "name": "stdout",
     "output_type": "stream",
     "text": [
      "+-------+-------+-------------+-----+---+\n",
      "|user_id|country|      browser|   OS|age|\n",
      "+-------+-------+-------------+-----+---+\n",
      "|   A203|    USA|       Chrome|  WIN| 33|\n",
      "|   A201|  China|Google Chrome|MacOS| 35|\n",
      "|   A205|     UK|      Mozilla|Linux| 25|\n",
      "+-------+-------+-------------+-----+---+\n",
      "\n"
     ]
    }
   ],
   "source": [
    "df_na.fillna({'country':'USA','browser':'Google Chrome'}).show()"
   ]
  },
  {
   "cell_type": "code",
   "execution_count": 14,
   "metadata": {},
   "outputs": [
    {
     "name": "stdout",
     "output_type": "stream",
     "text": [
      "+-------+-------+-------+-----+---+\n",
      "|user_id|country|browser|   OS|age|\n",
      "+-------+-------+-------+-----+---+\n",
      "|   A205|     UK|Mozilla|Linux| 25|\n",
      "+-------+-------+-------+-----+---+\n",
      "\n"
     ]
    }
   ],
   "source": [
    "df_na.na.drop().show()"
   ]
  },
  {
   "cell_type": "code",
   "execution_count": 15,
   "metadata": {},
   "outputs": [
    {
     "name": "stdout",
     "output_type": "stream",
     "text": [
      "+-------+-------+-------+-----+---+\n",
      "|user_id|country|browser|   OS|age|\n",
      "+-------+-------+-------+-----+---+\n",
      "|   A201|  China|   null|MacOS| 35|\n",
      "|   A205|     UK|Mozilla|Linux| 25|\n",
      "+-------+-------+-------+-----+---+\n",
      "\n"
     ]
    }
   ],
   "source": [
    "df_na.na.drop(subset='country').show()"
   ]
  },
  {
   "cell_type": "code",
   "execution_count": 16,
   "metadata": {},
   "outputs": [
    {
     "name": "stdout",
     "output_type": "stream",
     "text": [
      "+-------+-------+-------------+-----+---+\n",
      "|user_id|country|      browser|   OS|age|\n",
      "+-------+-------+-------------+-----+---+\n",
      "|   A203|   null|Google Chrome|  WIN| 33|\n",
      "|   A201|  China|         null|MacOS| 35|\n",
      "|   A205|     UK|      Mozilla|Linux| 25|\n",
      "+-------+-------+-------------+-----+---+\n",
      "\n"
     ]
    }
   ],
   "source": [
    "df_na.replace(\"Chrome\",\"Google Chrome\").show()"
   ]
  },
  {
   "cell_type": "code",
   "execution_count": 18,
   "metadata": {},
   "outputs": [
    {
     "name": "stdout",
     "output_type": "stream",
     "text": [
      "+-------+-------+-----+---+\n",
      "|country|browser|   OS|age|\n",
      "+-------+-------+-----+---+\n",
      "|   null| Chrome|  WIN| 33|\n",
      "|  China|   null|MacOS| 35|\n",
      "|     UK|Mozilla|Linux| 25|\n",
      "+-------+-------+-----+---+\n",
      "\n"
     ]
    }
   ],
   "source": [
    "df_na.drop('user_id').show()"
   ]
  },
  {
   "cell_type": "code",
   "execution_count": 20,
   "metadata": {},
   "outputs": [],
   "source": [
    "df = spark.read.csv(\"customer_data.csv\",header = True, inferSchema=True)"
   ]
  },
  {
   "cell_type": "code",
   "execution_count": 21,
   "metadata": {},
   "outputs": [
    {
     "data": {
      "text/plain": [
       "2000"
      ]
     },
     "execution_count": 21,
     "metadata": {},
     "output_type": "execute_result"
    }
   ],
   "source": [
    "df.count()"
   ]
  },
  {
   "cell_type": "code",
   "execution_count": 22,
   "metadata": {},
   "outputs": [
    {
     "data": {
      "text/plain": [
       "7"
      ]
     },
     "execution_count": 22,
     "metadata": {},
     "output_type": "execute_result"
    }
   ],
   "source": [
    "len(df.columns)"
   ]
  },
  {
   "cell_type": "code",
   "execution_count": 23,
   "metadata": {},
   "outputs": [
    {
     "data": {
      "text/plain": [
       "['Customer_subtype',\n",
       " 'Number_of_houses',\n",
       " 'Avg_size_household',\n",
       " 'Avg_age',\n",
       " 'Customer_main_type',\n",
       " 'Avg_Salary',\n",
       " 'label']"
      ]
     },
     "execution_count": 23,
     "metadata": {},
     "output_type": "execute_result"
    }
   ],
   "source": [
    "df.columns"
   ]
  },
  {
   "cell_type": "code",
   "execution_count": 24,
   "metadata": {},
   "outputs": [
    {
     "name": "stdout",
     "output_type": "stream",
     "text": [
      "root\n",
      " |-- Customer_subtype: string (nullable = true)\n",
      " |-- Number_of_houses: integer (nullable = true)\n",
      " |-- Avg_size_household: integer (nullable = true)\n",
      " |-- Avg_age: string (nullable = true)\n",
      " |-- Customer_main_type: string (nullable = true)\n",
      " |-- Avg_Salary: integer (nullable = true)\n",
      " |-- label: integer (nullable = true)\n",
      "\n"
     ]
    }
   ],
   "source": [
    "df.printSchema()"
   ]
  },
  {
   "cell_type": "code",
   "execution_count": 25,
   "metadata": {},
   "outputs": [
    {
     "name": "stdout",
     "output_type": "stream",
     "text": [
      "+--------------------+----------------+------------------+-----------+--------------------+----------+-----+\n",
      "|    Customer_subtype|Number_of_houses|Avg_size_household|    Avg_age|  Customer_main_type|Avg_Salary|label|\n",
      "+--------------------+----------------+------------------+-----------+--------------------+----------+-----+\n",
      "|Lower class large...|               1|                 3|30-40 years|Family with grown...|     44905|    0|\n",
      "|Mixed small town ...|               1|                 2|30-40 years|Family with grown...|     37575|    0|\n",
      "|Mixed small town ...|               1|                 2|30-40 years|Family with grown...|     27915|    0|\n",
      "+--------------------+----------------+------------------+-----------+--------------------+----------+-----+\n",
      "only showing top 3 rows\n",
      "\n"
     ]
    }
   ],
   "source": [
    "df.show(3)"
   ]
  },
  {
   "cell_type": "code",
   "execution_count": 26,
   "metadata": {},
   "outputs": [
    {
     "name": "stdout",
     "output_type": "stream",
     "text": [
      "+-------+--------------------+------------------+------------------+-----------+--------------------+-----------------+------------------+\n",
      "|summary|    Customer_subtype|  Number_of_houses|Avg_size_household|    Avg_age|  Customer_main_type|       Avg_Salary|             label|\n",
      "+-------+--------------------+------------------+------------------+-----------+--------------------+-----------------+------------------+\n",
      "|  count|                2000|              2000|              2000|       2000|                2000|             2000|              2000|\n",
      "|   mean|                null|            1.1075|            2.6895|       null|                null|     1616908.0835|            0.0605|\n",
      "| stddev|                null|0.3873225521186316|0.7914562220841646|       null|                null|6822647.757312146|0.2384705099001677|\n",
      "|    min|Affluent senior a...|                 1|                 1|20-30 years|      Average Family|             1361|                 0|\n",
      "|    25%|                null|                 1|                 2|       null|                null|            20315|                 0|\n",
      "|    50%|                null|                 1|                 3|       null|                null|            31421|                 0|\n",
      "|    75%|                null|                 1|                 3|       null|                null|            42949|                 0|\n",
      "|    max| Young, low educated|                10|                 5|70-80 years|Successful hedonists|         48919896|                 1|\n",
      "+-------+--------------------+------------------+------------------+-----------+--------------------+-----------------+------------------+\n",
      "\n"
     ]
    }
   ],
   "source": [
    "df.summary().show()"
   ]
  },
  {
   "cell_type": "markdown",
   "metadata": {},
   "source": [
    "Subset: select, filter, where"
   ]
  },
  {
   "cell_type": "code",
   "execution_count": 27,
   "metadata": {},
   "outputs": [
    {
     "name": "stdout",
     "output_type": "stream",
     "text": [
      "+--------------------+----------+\n",
      "|    Customer_subtype|Avg_Salary|\n",
      "+--------------------+----------+\n",
      "|Lower class large...|     44905|\n",
      "|Mixed small town ...|     37575|\n",
      "|Mixed small town ...|     27915|\n",
      "|Modern, complete ...|     19504|\n",
      "|  Large family farms|     34943|\n",
      "|    Young and rising|     13064|\n",
      "|Large religious f...|     29090|\n",
      "|Lower class large...|      6895|\n",
      "|Lower class large...|     35497|\n",
      "|     Family starters|     30800|\n",
      "|       Stable family|     39157|\n",
      "|Modern, complete ...|     40839|\n",
      "|Lower class large...|     30008|\n",
      "|        Mixed rurals|     37209|\n",
      "|    Young and rising|     45361|\n",
      "|Lower class large...|     45650|\n",
      "|Traditional families|     18982|\n",
      "|Mixed apartment d...|     30093|\n",
      "|Young all america...|     27097|\n",
      "|Low income catholics|     23511|\n",
      "+--------------------+----------+\n",
      "only showing top 20 rows\n",
      "\n"
     ]
    }
   ],
   "source": [
    "df.select(['Customer_subtype','Avg_Salary']).show()"
   ]
  },
  {
   "cell_type": "code",
   "execution_count": 28,
   "metadata": {},
   "outputs": [
    {
     "data": {
      "text/plain": [
       "128"
      ]
     },
     "execution_count": 28,
     "metadata": {},
     "output_type": "execute_result"
    }
   ],
   "source": [
    "df.filter(df['Avg_Salary']>1000000).count()"
   ]
  },
  {
   "cell_type": "code",
   "execution_count": 30,
   "metadata": {},
   "outputs": [
    {
     "data": {
      "text/plain": [
       "['Customer_subtype',\n",
       " 'Number_of_houses',\n",
       " 'Avg_size_household',\n",
       " 'Avg_age',\n",
       " 'Customer_main_type',\n",
       " 'Avg_Salary',\n",
       " 'label']"
      ]
     },
     "execution_count": 30,
     "metadata": {},
     "output_type": "execute_result"
    }
   ],
   "source": [
    "df.columns"
   ]
  },
  {
   "cell_type": "code",
   "execution_count": 31,
   "metadata": {},
   "outputs": [
    {
     "name": "stdout",
     "output_type": "stream",
     "text": [
      "+--------------------+----------------+------------------+-----------+--------------------+----------+-----+\n",
      "|    Customer_subtype|Number_of_houses|Avg_size_household|    Avg_age|  Customer_main_type|Avg_Salary|label|\n",
      "+--------------------+----------------+------------------+-----------+--------------------+----------+-----+\n",
      "|Affluent senior a...|               3|                 2|50-60 years|Successful hedonists|    596723|    0|\n",
      "|Affluent senior a...|               3|                 2|50-60 years|Successful hedonists|    944444|    0|\n",
      "|Affluent senior a...|               3|                 2|50-60 years|Successful hedonists|    788477|    0|\n",
      "|Affluent senior a...|               3|                 2|50-60 years|Successful hedonists|    994077|    0|\n",
      "+--------------------+----------------+------------------+-----------+--------------------+----------+-----+\n",
      "\n"
     ]
    }
   ],
   "source": [
    "df.filter(df['Avg_Salary']>500000).filter(df['Number_of_houses']>2).show()"
   ]
  },
  {
   "cell_type": "code",
   "execution_count": 32,
   "metadata": {},
   "outputs": [
    {
     "name": "stdout",
     "output_type": "stream",
     "text": [
      "+--------------------+----------------+------------------+-----------+--------------------+----------+-----+\n",
      "|    Customer_subtype|Number_of_houses|Avg_size_household|    Avg_age|  Customer_main_type|Avg_Salary|label|\n",
      "+--------------------+----------------+------------------+-----------+--------------------+----------+-----+\n",
      "|Affluent senior a...|               3|                 2|50-60 years|Successful hedonists|    596723|    0|\n",
      "|Affluent senior a...|               3|                 2|50-60 years|Successful hedonists|    944444|    0|\n",
      "|Affluent senior a...|               3|                 2|50-60 years|Successful hedonists|    788477|    0|\n",
      "|Affluent senior a...|               3|                 2|50-60 years|Successful hedonists|    994077|    0|\n",
      "+--------------------+----------------+------------------+-----------+--------------------+----------+-----+\n",
      "\n"
     ]
    }
   ],
   "source": [
    "df.where((df['Avg_Salary']>500000)&(df['Number_of_houses']>2)).show()"
   ]
  },
  {
   "cell_type": "markdown",
   "metadata": {},
   "source": [
    "Aggregate"
   ]
  },
  {
   "cell_type": "code",
   "execution_count": 33,
   "metadata": {},
   "outputs": [
    {
     "name": "stdout",
     "output_type": "stream",
     "text": [
      "+--------------------+-----+\n",
      "|    Customer_subtype|count|\n",
      "+--------------------+-----+\n",
      "|Large family, emp...|   56|\n",
      "|Religious elderly...|   47|\n",
      "|Large religious f...|  107|\n",
      "|Modern, complete ...|   93|\n",
      "|    Village families|   68|\n",
      "|Young all america...|   62|\n",
      "|Young urban have-...|    4|\n",
      "|Young seniors in ...|   22|\n",
      "|Fresh masters in ...|    2|\n",
      "|High Income, expe...|   52|\n",
      "|Lower class large...|  288|\n",
      "| Residential elderly|    6|\n",
      "|Senior cosmopolitans|    1|\n",
      "|        Mixed rurals|   67|\n",
      "|Career and childcare|   33|\n",
      "|Low income catholics|   72|\n",
      "|Mixed apartment d...|   34|\n",
      "|Seniors in apartm...|   17|\n",
      "|Middle class fami...|  122|\n",
      "|Traditional families|  129|\n",
      "+--------------------+-----+\n",
      "only showing top 20 rows\n",
      "\n"
     ]
    }
   ],
   "source": [
    "df.groupBy('Customer_subtype').count().show()"
   ]
  },
  {
   "cell_type": "code",
   "execution_count": 35,
   "metadata": {},
   "outputs": [
    {
     "name": "stdout",
     "output_type": "stream",
     "text": [
      " Aggregation for Customer_subtype\n",
      "+------------------------------------------+-----+\n",
      "|Customer_subtype                          |count|\n",
      "+------------------------------------------+-----+\n",
      "|Lower class large families                |288  |\n",
      "|Traditional families                      |129  |\n",
      "|Middle class families                     |122  |\n",
      "|Large religious families                  |107  |\n",
      "|Modern, complete families                 |93   |\n",
      "|Couples with teens 'Married with children'|83   |\n",
      "|Young and rising                          |78   |\n",
      "|High status seniors                       |76   |\n",
      "|Low income catholics                      |72   |\n",
      "|Mixed seniors                             |71   |\n",
      "|Village families                          |68   |\n",
      "|Mixed rurals                              |67   |\n",
      "|Young all american family                 |62   |\n",
      "|Stable family                             |62   |\n",
      "|Young, low educated                       |56   |\n",
      "|Large family, employed child              |56   |\n",
      "|Family starters                           |55   |\n",
      "|High Income, expensive child              |52   |\n",
      "|Mixed small town dwellers                 |47   |\n",
      "|Religious elderly singles                 |47   |\n",
      "+------------------------------------------+-----+\n",
      "only showing top 20 rows\n",
      "\n",
      " Aggregation for Number_of_houses\n",
      "+----------------+-----+\n",
      "|Number_of_houses|count|\n",
      "+----------------+-----+\n",
      "|1               |1808 |\n",
      "|2               |178  |\n",
      "|3               |12   |\n",
      "|5               |1    |\n",
      "|10              |1    |\n",
      "+----------------+-----+\n",
      "\n",
      " Aggregation for Avg_size_household\n",
      "+------------------+-----+\n",
      "|Avg_size_household|count|\n",
      "+------------------+-----+\n",
      "|3                 |900  |\n",
      "|2                 |730  |\n",
      "|4                 |255  |\n",
      "|1                 |94   |\n",
      "|5                 |21   |\n",
      "+------------------+-----+\n",
      "\n",
      " Aggregation for Avg_age\n",
      "+-----------+-----+\n",
      "|Avg_age    |count|\n",
      "+-----------+-----+\n",
      "|40-50 years|1028 |\n",
      "|30-40 years|496  |\n",
      "|50-60 years|373  |\n",
      "|60-70 years|64   |\n",
      "|20-30 years|31   |\n",
      "|70-80 years|8    |\n",
      "+-----------+-----+\n",
      "\n",
      " Aggregation for Customer_main_type\n",
      "+---------------------+-----+\n",
      "|Customer_main_type   |count|\n",
      "+---------------------+-----+\n",
      "|Family with grown ups|542  |\n",
      "|Average Family       |308  |\n",
      "|Conservative families|236  |\n",
      "|Retired and Religious|202  |\n",
      "|Successful hedonists |194  |\n",
      "|Living well          |178  |\n",
      "|Driven Growers       |172  |\n",
      "|Farmers              |93   |\n",
      "|Cruising Seniors     |60   |\n",
      "|Career Loners        |15   |\n",
      "+---------------------+-----+\n",
      "\n",
      " Aggregation for label\n",
      "+-----+-----+\n",
      "|label|count|\n",
      "+-----+-----+\n",
      "|0    |1879 |\n",
      "|1    |121  |\n",
      "+-----+-----+\n",
      "\n"
     ]
    }
   ],
   "source": [
    "for col in df.columns:\n",
    "    if col!='Avg_Salary':\n",
    "        print(f\" Aggregation for {col}\")\n",
    "        df.groupBy(col).count().orderBy('count',ascending=False).show(truncate=False)"
   ]
  },
  {
   "cell_type": "code",
   "execution_count": 37,
   "metadata": {},
   "outputs": [
    {
     "name": "stdout",
     "output_type": "stream",
     "text": [
      "+--------------------+--------------------+\n",
      "|  Customer_main_type|     avg(Avg_Salary)|\n",
      "+--------------------+--------------------+\n",
      "|             Farmers|  30209.333333333332|\n",
      "|       Career Loners|             32272.6|\n",
      "|Retired and Relig...|   27338.80693069307|\n",
      "|Successful hedonists|1.6278923510309279E7|\n",
      "|         Living well|  31194.044943820223|\n",
      "|      Average Family|  104256.62337662338|\n",
      "|    Cruising Seniors|  28870.333333333332|\n",
      "|Conservative fami...|  29504.419491525423|\n",
      "|      Driven Growers|   30769.04069767442|\n",
      "|Family with grown...|  28114.191881918818|\n",
      "+--------------------+--------------------+\n",
      "\n"
     ]
    }
   ],
   "source": [
    "df.groupBy('Customer_main_type').agg(F.mean('Avg_Salary')).show()"
   ]
  },
  {
   "cell_type": "code",
   "execution_count": 42,
   "metadata": {},
   "outputs": [
    {
     "name": "stdout",
     "output_type": "stream",
     "text": [
      "+--------------------+---------------+\n",
      "|  Customer_main_type|max(Avg_Salary)|\n",
      "+--------------------+---------------+\n",
      "|Successful hedonists|       48919896|\n",
      "|      Average Family|         991838|\n",
      "|             Farmers|          49965|\n",
      "|Conservative fami...|          49965|\n",
      "|      Driven Growers|          49932|\n",
      "|       Career Loners|          49903|\n",
      "|Family with grown...|          49901|\n",
      "|         Living well|          49816|\n",
      "|Retired and Relig...|          49564|\n",
      "|    Cruising Seniors|          49526|\n",
      "+--------------------+---------------+\n",
      "\n"
     ]
    }
   ],
   "source": [
    "df.groupBy('Customer_main_type').agg(F.max('Avg_Salary')).orderBy('max(Avg_Salary)',ascending=False).show()"
   ]
  },
  {
   "cell_type": "code",
   "execution_count": 43,
   "metadata": {},
   "outputs": [
    {
     "name": "stdout",
     "output_type": "stream",
     "text": [
      "+--------------------+----------------+------------------+-----------+--------------------+----------+-----+\n",
      "|    Customer_subtype|Number_of_houses|Avg_size_household|    Avg_age|  Customer_main_type|Avg_Salary|label|\n",
      "+--------------------+----------------+------------------+-----------+--------------------+----------+-----+\n",
      "| High status seniors|               1|                 2|60-70 years|Successful hedonists|  48919896|    0|\n",
      "|High Income, expe...|               1|                 2|50-60 years|Successful hedonists|  48177970|    0|\n",
      "|High Income, expe...|               1|                 2|50-60 years|Successful hedonists|  48069548|    1|\n",
      "|High Income, expe...|               1|                 3|40-50 years|Successful hedonists|  46911924|    0|\n",
      "| High status seniors|               1|                 3|40-50 years|Successful hedonists|  46614009|    0|\n",
      "|High Income, expe...|               1|                 3|30-40 years|Successful hedonists|  45952441|    0|\n",
      "|High Income, expe...|               1|                 3|40-50 years|Successful hedonists|  45864609|    1|\n",
      "| High status seniors|               1|                 1|50-60 years|Successful hedonists|  45592572|    0|\n",
      "| High status seniors|               1|                 2|50-60 years|Successful hedonists|  45170899|    0|\n",
      "|High Income, expe...|               1|                 3|50-60 years|Successful hedonists|  44843830|    0|\n",
      "| High status seniors|               1|                 2|50-60 years|Successful hedonists|  43230349|    0|\n",
      "| High status seniors|               1|                 5|40-50 years|Successful hedonists|  43181830|    0|\n",
      "| High status seniors|               1|                 1|30-40 years|Successful hedonists|  42631926|    0|\n",
      "| High status seniors|               1|                 2|50-60 years|Successful hedonists|  41919020|    0|\n",
      "| High status seniors|               1|                 2|50-60 years|Successful hedonists|  41699271|    0|\n",
      "| High status seniors|               1|                 2|40-50 years|Successful hedonists|  41398953|    0|\n",
      "|High Income, expe...|               1|                 3|40-50 years|Successful hedonists|  41269615|    1|\n",
      "| High status seniors|               1|                 2|50-60 years|Successful hedonists|  41192397|    1|\n",
      "| High status seniors|               1|                 2|40-50 years|Successful hedonists|  40564335|    0|\n",
      "| High status seniors|               1|                 2|50-60 years|Successful hedonists|  40453887|    0|\n",
      "+--------------------+----------------+------------------+-----------+--------------------+----------+-----+\n",
      "only showing top 20 rows\n",
      "\n"
     ]
    }
   ],
   "source": [
    "df.sort(\"Avg_Salary\",ascending=False).show()"
   ]
  },
  {
   "cell_type": "markdown",
   "metadata": {},
   "source": [
    "df.groupBy('Customer_subtype').agg(F.avg('Avg_Salary').alias('mean_salary')).orderBy('mean_salary',ascending=False).show()"
   ]
  },
  {
   "cell_type": "code",
   "execution_count": 48,
   "metadata": {},
   "outputs": [
    {
     "name": "stdout",
     "output_type": "stream",
     "text": [
      "+--------------------+----------+\n",
      "|    Customer_subtype|max_salary|\n",
      "+--------------------+----------+\n",
      "| High status seniors|  48919896|\n",
      "|High Income, expe...|  48177970|\n",
      "|Affluent senior a...|    994077|\n",
      "|Affluent young fa...|    991838|\n",
      "|  Large family farms|     49965|\n",
      "|Traditional families|     49965|\n",
      "|Middle class fami...|     49932|\n",
      "|Senior cosmopolitans|     49903|\n",
      "|Mixed small town ...|     49901|\n",
      "|Lower class large...|     49899|\n",
      "|       Mixed seniors|     49876|\n",
      "|    Young and rising|     49816|\n",
      "|        Mixed rurals|     49785|\n",
      "|Modern, complete ...|     49729|\n",
      "| Young, low educated|     49626|\n",
      "|Mixed apartment d...|     49621|\n",
      "|     Family starters|     49602|\n",
      "|    Village families|     49575|\n",
      "|Religious elderly...|     49564|\n",
      "|       Stable family|     49548|\n",
      "+--------------------+----------+\n",
      "only showing top 20 rows\n",
      "\n"
     ]
    }
   ],
   "source": [
    "df.groupBy('Customer_subtype').agg(F.max('Avg_Salary').alias('max_salary')).orderBy('max_salary',ascending=False).show()"
   ]
  },
  {
   "cell_type": "code",
   "execution_count": 50,
   "metadata": {},
   "outputs": [
    {
     "name": "stdout",
     "output_type": "stream",
     "text": [
      "+--------------------+-----------------------------+\n",
      "|    Customer_subtype|collect_set(Number_of_houses)|\n",
      "+--------------------+-----------------------------+\n",
      "|Large family, emp...|                       [1, 2]|\n",
      "|Religious elderly...|                       [1, 2]|\n",
      "|Large religious f...|                       [1, 2]|\n",
      "|Modern, complete ...|                       [1, 2]|\n",
      "|    Village families|                       [1, 2]|\n",
      "|Young all america...|                       [1, 2]|\n",
      "|Young urban have-...|                       [1, 2]|\n",
      "|Young seniors in ...|                    [1, 2, 3]|\n",
      "|Fresh masters in ...|                          [1]|\n",
      "|High Income, expe...|                          [1]|\n",
      "|Lower class large...|                       [1, 2]|\n",
      "| Residential elderly|                    [1, 2, 3]|\n",
      "|Senior cosmopolitans|                          [3]|\n",
      "|        Mixed rurals|                          [1]|\n",
      "|Career and childcare|                       [1, 2]|\n",
      "|Low income catholics|                          [1]|\n",
      "|Mixed apartment d...|                    [1, 2, 3]|\n",
      "|Seniors in apartm...|                       [1, 2]|\n",
      "|Middle class fami...|                       [1, 2]|\n",
      "|Traditional families|                       [1, 2]|\n",
      "+--------------------+-----------------------------+\n",
      "only showing top 20 rows\n",
      "\n"
     ]
    }
   ],
   "source": [
    "df.groupBy(\"Customer_subtype\").agg(F.collect_set(\"Number_of_houses\")).show()"
   ]
  },
  {
   "cell_type": "code",
   "execution_count": 52,
   "metadata": {},
   "outputs": [
    {
     "name": "stdout",
     "output_type": "stream",
     "text": [
      "+--------------------+--------+\n",
      "|    Customer_subtype|constant|\n",
      "+--------------------+--------+\n",
      "|Lower class large...| finance|\n",
      "|Mixed small town ...| finance|\n",
      "|Mixed small town ...| finance|\n",
      "|Modern, complete ...| finance|\n",
      "|  Large family farms| finance|\n",
      "|    Young and rising| finance|\n",
      "|Large religious f...| finance|\n",
      "|Lower class large...| finance|\n",
      "|Lower class large...| finance|\n",
      "|     Family starters| finance|\n",
      "|       Stable family| finance|\n",
      "|Modern, complete ...| finance|\n",
      "|Lower class large...| finance|\n",
      "|        Mixed rurals| finance|\n",
      "|    Young and rising| finance|\n",
      "|Lower class large...| finance|\n",
      "|Traditional families| finance|\n",
      "|Mixed apartment d...| finance|\n",
      "|Young all america...| finance|\n",
      "|Low income catholics| finance|\n",
      "+--------------------+--------+\n",
      "only showing top 20 rows\n",
      "\n"
     ]
    }
   ],
   "source": [
    "df = df.withColumn('constant',F.lit('finance'))\n",
    "df.select(['Customer_subtype','constant']).show()"
   ]
  },
  {
   "cell_type": "code",
   "execution_count": 54,
   "metadata": {},
   "outputs": [
    {
     "name": "stdout",
     "output_type": "stream",
     "text": [
      "+-----------+-----+\n",
      "|    Avg_age|count|\n",
      "+-----------+-----+\n",
      "|70-80 years|    8|\n",
      "|50-60 years|  373|\n",
      "|30-40 years|  496|\n",
      "|20-30 years|   31|\n",
      "|60-70 years|   64|\n",
      "|40-50 years| 1028|\n",
      "+-----------+-----+\n",
      "\n"
     ]
    }
   ],
   "source": [
    "df.groupBy('Avg_age').count().show()"
   ]
  },
  {
   "cell_type": "code",
   "execution_count": 55,
   "metadata": {},
   "outputs": [],
   "source": [
    "def age_category(age):\n",
    "    if age == \"20-30 years\":\n",
    "        return \"young\"\n",
    "    elif age==\"30-40 years\":\n",
    "        return \"Mid Aged\"\n",
    "    elif((age==\"40-50 years\") or (age == \"50-60 years\")):\n",
    "        return \"old\"\n",
    "    else:\n",
    "        return \"very old\""
   ]
  },
  {
   "cell_type": "code",
   "execution_count": 56,
   "metadata": {},
   "outputs": [],
   "source": [
    "age_udf=udf(age_category,StringType())"
   ]
  },
  {
   "cell_type": "code",
   "execution_count": 57,
   "metadata": {},
   "outputs": [],
   "source": [
    "df=df.withColumn('age_category',age_udf(df['Avg_age']))"
   ]
  },
  {
   "cell_type": "code",
   "execution_count": 58,
   "metadata": {},
   "outputs": [
    {
     "name": "stdout",
     "output_type": "stream",
     "text": [
      "+-----------+------------+\n",
      "|    Avg_age|age_category|\n",
      "+-----------+------------+\n",
      "|30-40 years|    Mid Aged|\n",
      "|30-40 years|    Mid Aged|\n",
      "|30-40 years|    Mid Aged|\n",
      "|40-50 years|         old|\n",
      "|30-40 years|    Mid Aged|\n",
      "|20-30 years|       young|\n",
      "|30-40 years|    Mid Aged|\n",
      "|40-50 years|         old|\n",
      "|50-60 years|         old|\n",
      "|40-50 years|         old|\n",
      "|40-50 years|         old|\n",
      "|40-50 years|         old|\n",
      "|40-50 years|         old|\n",
      "|40-50 years|         old|\n",
      "|30-40 years|    Mid Aged|\n",
      "|40-50 years|         old|\n",
      "|40-50 years|         old|\n",
      "|40-50 years|         old|\n",
      "|30-40 years|    Mid Aged|\n",
      "|50-60 years|         old|\n",
      "+-----------+------------+\n",
      "only showing top 20 rows\n",
      "\n"
     ]
    }
   ],
   "source": [
    "df.select('Avg_age','age_category').show()"
   ]
  },
  {
   "cell_type": "code",
   "execution_count": 60,
   "metadata": {},
   "outputs": [
    {
     "data": {
      "text/plain": [
       "Column<b'age_category()'>"
      ]
     },
     "execution_count": 60,
     "metadata": {},
     "output_type": "execute_result"
    }
   ],
   "source": [
    "age_udf()"
   ]
  },
  {
   "cell_type": "markdown",
   "metadata": {},
   "source": [
    "3 types of pandas UDF: scalar, grouped map, grouped agg"
   ]
  },
  {
   "cell_type": "code",
   "execution_count": 61,
   "metadata": {},
   "outputs": [
    {
     "name": "stdout",
     "output_type": "stream",
     "text": [
      "+-------+-----------------+\n",
      "|summary|       Avg_Salary|\n",
      "+-------+-----------------+\n",
      "|  count|             2000|\n",
      "|   mean|     1616908.0835|\n",
      "| stddev|6822647.757312146|\n",
      "|    min|             1361|\n",
      "|    25%|            20315|\n",
      "|    50%|            31421|\n",
      "|    75%|            42949|\n",
      "|    max|         48919896|\n",
      "+-------+-----------------+\n",
      "\n"
     ]
    }
   ],
   "source": [
    "df.select('Avg_Salary').summary().show()"
   ]
  },
  {
   "cell_type": "code",
   "execution_count": 62,
   "metadata": {},
   "outputs": [],
   "source": [
    "min_sal=1361\n",
    "max_sal = 48919896"
   ]
  },
  {
   "cell_type": "code",
   "execution_count": 63,
   "metadata": {},
   "outputs": [],
   "source": [
    "from pyspark.sql.functions import pandas_udf, PandasUDFType"
   ]
  },
  {
   "cell_type": "code",
   "execution_count": 64,
   "metadata": {},
   "outputs": [],
   "source": [
    "def scaled_salary(salary):\n",
    "    scaled_sal = (salary-min_sal)/(max_sal-min_sal)\n",
    "    return scaled_sal"
   ]
  },
  {
   "cell_type": "code",
   "execution_count": 66,
   "metadata": {},
   "outputs": [],
   "source": [
    "scaling_udf = pandas_udf(scaled_salary,DoubleType())"
   ]
  },
  {
   "cell_type": "code",
   "execution_count": 68,
   "metadata": {},
   "outputs": [],
   "source": [
    "#df.withColumn(\"scaled_salary\",scaling_udf(df['Avg_Salary'])).show(10,False)"
   ]
  },
  {
   "cell_type": "markdown",
   "metadata": {},
   "source": [
    "merge"
   ]
  },
  {
   "cell_type": "code",
   "execution_count": 74,
   "metadata": {},
   "outputs": [],
   "source": [
    "region_data = spark.createDataFrame([('Family with grown ups','PN'),('Driven Growers','GJ'),('Conservative families','DD'), \\\n",
    "                     ('Cruising Seniors','DL'),('Average Family ','MN'),('Living well','KA'),('Successful hedonists','JH'),('Retired and Religious','AX'),('Career Loners','HY'),('Farmers','JH')],schema=StructType().add(\"Customer_main_type\",\"string\").add(\"Region Code\",\"string\"))"
   ]
  },
  {
   "cell_type": "code",
   "execution_count": 75,
   "metadata": {},
   "outputs": [
    {
     "name": "stdout",
     "output_type": "stream",
     "text": [
      "+--------------------+-----------+\n",
      "|  Customer_main_type|Region Code|\n",
      "+--------------------+-----------+\n",
      "|Family with grown...|         PN|\n",
      "|      Driven Growers|         GJ|\n",
      "|Conservative fami...|         DD|\n",
      "|    Cruising Seniors|         DL|\n",
      "|     Average Family |         MN|\n",
      "|         Living well|         KA|\n",
      "|Successful hedonists|         JH|\n",
      "|Retired and Relig...|         AX|\n",
      "|       Career Loners|         HY|\n",
      "|             Farmers|         JH|\n",
      "+--------------------+-----------+\n",
      "\n"
     ]
    }
   ],
   "source": [
    "region_data.show()"
   ]
  },
  {
   "cell_type": "code",
   "execution_count": 76,
   "metadata": {},
   "outputs": [],
   "source": [
    "new_df=df.join(region_data,on='Customer_main_type')"
   ]
  },
  {
   "cell_type": "code",
   "execution_count": 77,
   "metadata": {},
   "outputs": [
    {
     "name": "stdout",
     "output_type": "stream",
     "text": [
      "+-----------+-----+\n",
      "|Region Code|count|\n",
      "+-----------+-----+\n",
      "|         JH|  287|\n",
      "|         HY|   15|\n",
      "|         DD|  236|\n",
      "|         DL|   60|\n",
      "|         GJ|  172|\n",
      "|         PN|  542|\n",
      "|         KA|  178|\n",
      "|         AX|  202|\n",
      "+-----------+-----+\n",
      "\n"
     ]
    }
   ],
   "source": [
    "new_df.groupBy(\"Region Code\").count().show()"
   ]
  },
  {
   "cell_type": "markdown",
   "metadata": {},
   "source": [
    "pivot view"
   ]
  },
  {
   "cell_type": "code",
   "execution_count": 79,
   "metadata": {},
   "outputs": [
    {
     "name": "stdout",
     "output_type": "stream",
     "text": [
      "+--------------------+-----------+-----------+-----------+-----------+-----------+-----------+\n",
      "|  Customer_main_type|20-30 years|30-40 years|40-50 years|50-60 years|60-70 years|70-80 years|\n",
      "+--------------------+-----------+-----------+-----------+-----------+-----------+-----------+\n",
      "|             Farmers|          0|     462027|    2031235|     316206|          0|          0|\n",
      "|       Career Loners|     143998|     176639|      25701|     105193|      32558|          0|\n",
      "|Retired and Relig...|     126350|     336631|    2975266|    1687711|     335357|      61124|\n",
      "|Successful hedonists|      42261|  171278764| 1223362814| 1563071675|  200340129|      15518|\n",
      "|         Living well|     460528|    2965303|    1795405|     331304|          0|          0|\n",
      "|      Average Family|          0|   23682805|    7789464|     412490|     226281|          0|\n",
      "|    Cruising Seniors|          0|      43302|     303601|     529354|     716425|     139538|\n",
      "|Conservative fami...|      69390|    2381485|    3449782|     915954|     146432|          0|\n",
      "|      Driven Growers|          0|    1376260|    3407807|     424272|      83936|          0|\n",
      "|Family with grown...|      16406|    2620378|    9132414|    3295378|     162820|      10496|\n",
      "+--------------------+-----------+-----------+-----------+-----------+-----------+-----------+\n",
      "\n"
     ]
    }
   ],
   "source": [
    "df.groupBy('Customer_main_type').pivot('Avg_age').sum('Avg_Salary').fillna(0).show()"
   ]
  },
  {
   "cell_type": "code",
   "execution_count": 81,
   "metadata": {},
   "outputs": [
    {
     "name": "stdout",
     "output_type": "stream",
     "text": [
      "+--------------------+----------+---------+\n",
      "|  Customer_main_type|         0|        1|\n",
      "+--------------------+----------+---------+\n",
      "|             Farmers|   2734832|    74636|\n",
      "|       Career Loners|    484089|        0|\n",
      "|Retired and Relig...|   5328410|   194029|\n",
      "|Successful hedonists|2720381462|437729699|\n",
      "|         Living well|   5453384|    99156|\n",
      "|      Average Family|  26036999|  6074041|\n",
      "|    Cruising Seniors|   1675841|    56379|\n",
      "|Conservative fami...|   6595027|   368016|\n",
      "|      Driven Growers|   4492465|   799810|\n",
      "|Family with grown...|  14394094|   843798|\n",
      "+--------------------+----------+---------+\n",
      "\n"
     ]
    }
   ],
   "source": [
    "df.groupBy('Customer_main_type').pivot('label').sum('Avg_Salary').fillna(0).show()"
   ]
  },
  {
   "cell_type": "markdown",
   "metadata": {},
   "source": [
    "window functions: Aggregations, rankings, Analytics"
   ]
  },
  {
   "cell_type": "code",
   "execution_count": 82,
   "metadata": {},
   "outputs": [],
   "source": [
    "from pyspark.sql.window import Window"
   ]
  },
  {
   "cell_type": "code",
   "execution_count": 83,
   "metadata": {},
   "outputs": [],
   "source": [
    "from pyspark.sql.functions import col, row_number"
   ]
  },
  {
   "cell_type": "code",
   "execution_count": 85,
   "metadata": {},
   "outputs": [],
   "source": [
    "win = Window.orderBy(df['Avg_Salary'].desc())"
   ]
  },
  {
   "cell_type": "code",
   "execution_count": 90,
   "metadata": {},
   "outputs": [],
   "source": [
    "df = df.withColumn('rank',row_number().over(win).alias('rank'))"
   ]
  },
  {
   "cell_type": "code",
   "execution_count": 91,
   "metadata": {},
   "outputs": [
    {
     "name": "stdout",
     "output_type": "stream",
     "text": [
      "+--------------------+----------------+------------------+-----------+--------------------+----------+-----+--------+------------+----+\n",
      "|    Customer_subtype|Number_of_houses|Avg_size_household|    Avg_age|  Customer_main_type|Avg_Salary|label|constant|age_category|rank|\n",
      "+--------------------+----------------+------------------+-----------+--------------------+----------+-----+--------+------------+----+\n",
      "| High status seniors|               1|                 2|60-70 years|Successful hedonists|  48919896|    0| finance|    very old|   1|\n",
      "|High Income, expe...|               1|                 2|50-60 years|Successful hedonists|  48177970|    0| finance|         old|   2|\n",
      "|High Income, expe...|               1|                 2|50-60 years|Successful hedonists|  48069548|    1| finance|         old|   3|\n",
      "|High Income, expe...|               1|                 3|40-50 years|Successful hedonists|  46911924|    0| finance|         old|   4|\n",
      "| High status seniors|               1|                 3|40-50 years|Successful hedonists|  46614009|    0| finance|         old|   5|\n",
      "|High Income, expe...|               1|                 3|30-40 years|Successful hedonists|  45952441|    0| finance|    Mid Aged|   6|\n",
      "|High Income, expe...|               1|                 3|40-50 years|Successful hedonists|  45864609|    1| finance|         old|   7|\n",
      "| High status seniors|               1|                 1|50-60 years|Successful hedonists|  45592572|    0| finance|         old|   8|\n",
      "| High status seniors|               1|                 2|50-60 years|Successful hedonists|  45170899|    0| finance|         old|   9|\n",
      "|High Income, expe...|               1|                 3|50-60 years|Successful hedonists|  44843830|    0| finance|         old|  10|\n",
      "| High status seniors|               1|                 2|50-60 years|Successful hedonists|  43230349|    0| finance|         old|  11|\n",
      "| High status seniors|               1|                 5|40-50 years|Successful hedonists|  43181830|    0| finance|         old|  12|\n",
      "| High status seniors|               1|                 1|30-40 years|Successful hedonists|  42631926|    0| finance|    Mid Aged|  13|\n",
      "| High status seniors|               1|                 2|50-60 years|Successful hedonists|  41919020|    0| finance|         old|  14|\n",
      "| High status seniors|               1|                 2|50-60 years|Successful hedonists|  41699271|    0| finance|         old|  15|\n",
      "| High status seniors|               1|                 2|40-50 years|Successful hedonists|  41398953|    0| finance|         old|  16|\n",
      "|High Income, expe...|               1|                 3|40-50 years|Successful hedonists|  41269615|    1| finance|         old|  17|\n",
      "| High status seniors|               1|                 2|50-60 years|Successful hedonists|  41192397|    1| finance|         old|  18|\n",
      "| High status seniors|               1|                 2|40-50 years|Successful hedonists|  40564335|    0| finance|         old|  19|\n",
      "| High status seniors|               1|                 2|50-60 years|Successful hedonists|  40453887|    0| finance|         old|  20|\n",
      "+--------------------+----------------+------------------+-----------+--------------------+----------+-----+--------+------------+----+\n",
      "only showing top 20 rows\n",
      "\n"
     ]
    }
   ],
   "source": [
    "df.show()"
   ]
  },
  {
   "cell_type": "code",
   "execution_count": 92,
   "metadata": {},
   "outputs": [],
   "source": [
    "win_1 = Window.partitionBy(\"Customer_subtype\").orderBy(df['Avg_Salary'].desc())"
   ]
  },
  {
   "cell_type": "code",
   "execution_count": 94,
   "metadata": {},
   "outputs": [],
   "source": [
    "df = df.withColumn('rank',row_number().over(win_1).alias('rank'))"
   ]
  },
  {
   "cell_type": "code",
   "execution_count": 95,
   "metadata": {},
   "outputs": [
    {
     "name": "stdout",
     "output_type": "stream",
     "text": [
      "+----+-----+\n",
      "|rank|count|\n",
      "+----+-----+\n",
      "|   1|   39|\n",
      "|   2|   37|\n",
      "|   3|   36|\n",
      "|   4|   36|\n",
      "|   5|   34|\n",
      "|   6|   34|\n",
      "|   7|   32|\n",
      "|   8|   31|\n",
      "|   9|   31|\n",
      "|  10|   31|\n",
      "|  11|   31|\n",
      "|  12|   31|\n",
      "|  13|   31|\n",
      "|  14|   31|\n",
      "|  15|   31|\n",
      "|  16|   30|\n",
      "|  17|   30|\n",
      "|  18|   27|\n",
      "|  19|   27|\n",
      "|  20|   27|\n",
      "+----+-----+\n",
      "only showing top 20 rows\n",
      "\n"
     ]
    }
   ],
   "source": [
    "df.groupBy('rank').count().orderBy('rank').show()"
   ]
  },
  {
   "cell_type": "code",
   "execution_count": 96,
   "metadata": {},
   "outputs": [
    {
     "name": "stdout",
     "output_type": "stream",
     "text": [
      "+--------------------+----------------+------------------+-----------+--------------------+----------+-----+--------+------------+----+\n",
      "|    Customer_subtype|Number_of_houses|Avg_size_household|    Avg_age|  Customer_main_type|Avg_Salary|label|constant|age_category|rank|\n",
      "+--------------------+----------------+------------------+-----------+--------------------+----------+-----+--------+------------+----+\n",
      "|Large family, emp...|               2|                 3|30-40 years|Family with grown...|     49418|    0| finance|    Mid Aged|   1|\n",
      "|Large family, emp...|               1|                 4|40-50 years|Family with grown...|     48390|    0| finance|         old|   2|\n",
      "|Large family, emp...|               1|                 3|40-50 years|Family with grown...|     48272|    0| finance|         old|   3|\n",
      "|Religious elderly...|               1|                 2|50-60 years|Retired and Relig...|     49564|    0| finance|         old|   1|\n",
      "|Religious elderly...|               1|                 2|60-70 years|Retired and Relig...|     49373|    0| finance|    very old|   2|\n",
      "|Religious elderly...|               1|                 1|70-80 years|Retired and Relig...|     49059|    0| finance|    very old|   3|\n",
      "|Large religious f...|               1|                 3|40-50 years|Conservative fami...|     49547|    0| finance|         old|   1|\n",
      "|Large religious f...|               1|                 2|60-70 years|Conservative fami...|     49268|    0| finance|    very old|   2|\n",
      "|Large religious f...|               1|                 3|40-50 years|Conservative fami...|     49040|    0| finance|         old|   3|\n",
      "|Modern, complete ...|               1|                 3|30-40 years|      Average Family|     49729|    0| finance|    Mid Aged|   1|\n",
      "|Modern, complete ...|               1|                 4|30-40 years|      Average Family|     48801|    0| finance|    Mid Aged|   2|\n",
      "|Modern, complete ...|               1|                 4|40-50 years|      Average Family|     48694|    0| finance|         old|   3|\n",
      "|    Village families|               1|                 2|50-60 years|Family with grown...|     49575|    0| finance|         old|   1|\n",
      "|    Village families|               1|                 2|30-40 years|Family with grown...|     49097|    0| finance|    Mid Aged|   2|\n",
      "|    Village families|               1|                 3|40-50 years|Family with grown...|     48108|    0| finance|         old|   3|\n",
      "|Young all america...|               1|                 3|40-50 years|      Average Family|     48433|    0| finance|         old|   1|\n",
      "|Young all america...|               2|                 4|40-50 years|      Average Family|     47538|    0| finance|         old|   2|\n",
      "|Young all america...|               1|                 4|30-40 years|      Average Family|     47393|    0| finance|    Mid Aged|   3|\n",
      "|Young urban have-...|               2|                 2|50-60 years|         Living well|     31511|    0| finance|         old|   1|\n",
      "|Young urban have-...|               1|                 2|30-40 years|         Living well|     26788|    0| finance|    Mid Aged|   2|\n",
      "+--------------------+----------------+------------------+-----------+--------------------+----------+-----+--------+------------+----+\n",
      "only showing top 20 rows\n",
      "\n"
     ]
    }
   ],
   "source": [
    "df.filter(col('rank')<4).show()"
   ]
  },
  {
   "cell_type": "markdown",
   "metadata": {},
   "source": [
    "chapter - 3"
   ]
  },
  {
   "cell_type": "markdown",
   "metadata": {},
   "source": [
    "s"
   ]
  },
  {
   "cell_type": "code",
   "execution_count": 98,
   "metadata": {},
   "outputs": [],
   "source": [
    "sparkS=SparkSession.builder.appName('structured_streaming').getOrCreate()"
   ]
  },
  {
   "cell_type": "code",
   "execution_count": 99,
   "metadata": {},
   "outputs": [],
   "source": [
    "df_1=sparkS.createDataFrame([(\"XN203\",'FB',300,30),(\"XN201\",'Twitter',10,19),(\"XN202\",'Insta',500,45)],[\"user_id\",\"app\",\"time_in_secs\",\"age\"]).write.csv(\"csv_folder\",mode='append')"
   ]
  },
  {
   "cell_type": "code",
   "execution_count": 100,
   "metadata": {},
   "outputs": [],
   "source": [
    "schema1= StructType().add(\"user_id\",\"string\").add(\"app\",\"string\").add(\"time_in_secs\",\"integer\").add(\"age\",\"integer\")"
   ]
  },
  {
   "cell_type": "code",
   "execution_count": 105,
   "metadata": {},
   "outputs": [],
   "source": [
    "data = sparkS.readStream.option(\"sep\",\",\").schema(schema1).csv(\"csv_folder\")"
   ]
  },
  {
   "cell_type": "code",
   "execution_count": 106,
   "metadata": {},
   "outputs": [
    {
     "name": "stdout",
     "output_type": "stream",
     "text": [
      "root\n",
      " |-- user_id: string (nullable = true)\n",
      " |-- app: string (nullable = true)\n",
      " |-- time_in_secs: integer (nullable = true)\n",
      " |-- age: integer (nullable = true)\n",
      "\n"
     ]
    }
   ],
   "source": [
    "data.printSchema()"
   ]
  },
  {
   "cell_type": "code",
   "execution_count": 107,
   "metadata": {},
   "outputs": [],
   "source": [
    "app_count = data.groupBy('app').count()"
   ]
  },
  {
   "cell_type": "code",
   "execution_count": 110,
   "metadata": {},
   "outputs": [],
   "source": [
    "query = (app_count.writeStream.queryName('count_query').outputMode('complete').format('memory').start())"
   ]
  },
  {
   "cell_type": "code",
   "execution_count": 111,
   "metadata": {},
   "outputs": [
    {
     "data": {
      "text/html": [
       "<div>\n",
       "<style scoped>\n",
       "    .dataframe tbody tr th:only-of-type {\n",
       "        vertical-align: middle;\n",
       "    }\n",
       "\n",
       "    .dataframe tbody tr th {\n",
       "        vertical-align: top;\n",
       "    }\n",
       "\n",
       "    .dataframe thead th {\n",
       "        text-align: right;\n",
       "    }\n",
       "</style>\n",
       "<table border=\"1\" class=\"dataframe\">\n",
       "  <thead>\n",
       "    <tr style=\"text-align: right;\">\n",
       "      <th></th>\n",
       "      <th>app</th>\n",
       "      <th>count</th>\n",
       "    </tr>\n",
       "  </thead>\n",
       "  <tbody>\n",
       "    <tr>\n",
       "      <th>0</th>\n",
       "      <td>Insta</td>\n",
       "      <td>1</td>\n",
       "    </tr>\n",
       "    <tr>\n",
       "      <th>1</th>\n",
       "      <td>FB</td>\n",
       "      <td>1</td>\n",
       "    </tr>\n",
       "    <tr>\n",
       "      <th>2</th>\n",
       "      <td>Twitter</td>\n",
       "      <td>1</td>\n",
       "    </tr>\n",
       "  </tbody>\n",
       "</table>\n",
       "</div>"
      ],
      "text/plain": [
       "       app  count\n",
       "0    Insta      1\n",
       "1       FB      1\n",
       "2  Twitter      1"
      ]
     },
     "execution_count": 111,
     "metadata": {},
     "output_type": "execute_result"
    }
   ],
   "source": [
    "sparkS.sql(\"select * from count_query\").toPandas().head(5)"
   ]
  },
  {
   "cell_type": "code",
   "execution_count": 112,
   "metadata": {},
   "outputs": [],
   "source": [
    "fb_data= data.filter(data['app']=='FB')"
   ]
  },
  {
   "cell_type": "code",
   "execution_count": 113,
   "metadata": {},
   "outputs": [],
   "source": [
    "fb_avg_time = fb_data.groupBy('user_id').agg(F.avg(\"time_in_secs\"))"
   ]
  },
  {
   "cell_type": "code",
   "execution_count": 114,
   "metadata": {},
   "outputs": [],
   "source": [
    "fb_query = (fb_avg_time.writeStream.queryName('fb_query').outputMode('complete').format('memory').start())"
   ]
  },
  {
   "cell_type": "code",
   "execution_count": 115,
   "metadata": {},
   "outputs": [
    {
     "data": {
      "text/html": [
       "<div>\n",
       "<style scoped>\n",
       "    .dataframe tbody tr th:only-of-type {\n",
       "        vertical-align: middle;\n",
       "    }\n",
       "\n",
       "    .dataframe tbody tr th {\n",
       "        vertical-align: top;\n",
       "    }\n",
       "\n",
       "    .dataframe thead th {\n",
       "        text-align: right;\n",
       "    }\n",
       "</style>\n",
       "<table border=\"1\" class=\"dataframe\">\n",
       "  <thead>\n",
       "    <tr style=\"text-align: right;\">\n",
       "      <th></th>\n",
       "      <th>user_id</th>\n",
       "      <th>avg(time_in_secs)</th>\n",
       "    </tr>\n",
       "  </thead>\n",
       "  <tbody>\n",
       "    <tr>\n",
       "      <th>0</th>\n",
       "      <td>XN203</td>\n",
       "      <td>300.0</td>\n",
       "    </tr>\n",
       "  </tbody>\n",
       "</table>\n",
       "</div>"
      ],
      "text/plain": [
       "  user_id  avg(time_in_secs)\n",
       "0   XN203              300.0"
      ]
     },
     "execution_count": 115,
     "metadata": {},
     "output_type": "execute_result"
    }
   ],
   "source": [
    "sparkS.sql(\"select * from fb_query\").toPandas().head(5)"
   ]
  },
  {
   "cell_type": "code",
   "execution_count": 124,
   "metadata": {},
   "outputs": [],
   "source": [
    "df_2=spark.createDataFrame([(\"XN203\",'FB',100,30),(\"XN201\",'FB',10,19),(\"XN202\",'FB',2000,45)],[\"user_id\",\"app\",\"time_in_secs\",\"age\"]).write.csv(\"csv_folder\",mode='append')"
   ]
  },
  {
   "cell_type": "code",
   "execution_count": 125,
   "metadata": {},
   "outputs": [
    {
     "data": {
      "text/html": [
       "<div>\n",
       "<style scoped>\n",
       "    .dataframe tbody tr th:only-of-type {\n",
       "        vertical-align: middle;\n",
       "    }\n",
       "\n",
       "    .dataframe tbody tr th {\n",
       "        vertical-align: top;\n",
       "    }\n",
       "\n",
       "    .dataframe thead th {\n",
       "        text-align: right;\n",
       "    }\n",
       "</style>\n",
       "<table border=\"1\" class=\"dataframe\">\n",
       "  <thead>\n",
       "    <tr style=\"text-align: right;\">\n",
       "      <th></th>\n",
       "      <th>user_id</th>\n",
       "      <th>avg(time_in_secs)</th>\n",
       "    </tr>\n",
       "  </thead>\n",
       "  <tbody>\n",
       "    <tr>\n",
       "      <th>0</th>\n",
       "      <td>XN203</td>\n",
       "      <td>300.0</td>\n",
       "    </tr>\n",
       "    <tr>\n",
       "      <th>1</th>\n",
       "      <td>XN201</td>\n",
       "      <td>10.0</td>\n",
       "    </tr>\n",
       "    <tr>\n",
       "      <th>2</th>\n",
       "      <td>XN202</td>\n",
       "      <td>2000.0</td>\n",
       "    </tr>\n",
       "  </tbody>\n",
       "</table>\n",
       "</div>"
      ],
      "text/plain": [
       "  user_id  avg(time_in_secs)\n",
       "0   XN203              300.0\n",
       "1   XN201               10.0\n",
       "2   XN202             2000.0"
      ]
     },
     "execution_count": 125,
     "metadata": {},
     "output_type": "execute_result"
    }
   ],
   "source": [
    "spark.sql(\"select * from fb_query \").toPandas().head(5)"
   ]
  },
  {
   "cell_type": "code",
   "execution_count": 126,
   "metadata": {},
   "outputs": [],
   "source": [
    "df_3=spark.createDataFrame([(\"XN203\",'FB',500,30),(\"XN201\",'Insta',30,19),(\"XN202\",'Twitter',100,45)],[\"user_id\",\"app\",\"time_in_secs\",\"age\"]).write.csv(\"csv_folder\",mode='append')"
   ]
  },
  {
   "cell_type": "code",
   "execution_count": 127,
   "metadata": {},
   "outputs": [
    {
     "data": {
      "text/html": [
       "<div>\n",
       "<style scoped>\n",
       "    .dataframe tbody tr th:only-of-type {\n",
       "        vertical-align: middle;\n",
       "    }\n",
       "\n",
       "    .dataframe tbody tr th {\n",
       "        vertical-align: top;\n",
       "    }\n",
       "\n",
       "    .dataframe thead th {\n",
       "        text-align: right;\n",
       "    }\n",
       "</style>\n",
       "<table border=\"1\" class=\"dataframe\">\n",
       "  <thead>\n",
       "    <tr style=\"text-align: right;\">\n",
       "      <th></th>\n",
       "      <th>user_id</th>\n",
       "      <th>avg(time_in_secs)</th>\n",
       "    </tr>\n",
       "  </thead>\n",
       "  <tbody>\n",
       "    <tr>\n",
       "      <th>0</th>\n",
       "      <td>XN203</td>\n",
       "      <td>300.0</td>\n",
       "    </tr>\n",
       "    <tr>\n",
       "      <th>1</th>\n",
       "      <td>XN201</td>\n",
       "      <td>10.0</td>\n",
       "    </tr>\n",
       "    <tr>\n",
       "      <th>2</th>\n",
       "      <td>XN202</td>\n",
       "      <td>2000.0</td>\n",
       "    </tr>\n",
       "  </tbody>\n",
       "</table>\n",
       "</div>"
      ],
      "text/plain": [
       "  user_id  avg(time_in_secs)\n",
       "0   XN203              300.0\n",
       "1   XN201               10.0\n",
       "2   XN202             2000.0"
      ]
     },
     "execution_count": 127,
     "metadata": {},
     "output_type": "execute_result"
    }
   ],
   "source": [
    "spark.sql(\"select * from fb_query \").toPandas().head(5)"
   ]
  },
  {
   "cell_type": "code",
   "execution_count": 128,
   "metadata": {},
   "outputs": [],
   "source": [
    "app_df=data.groupBy('app').agg(F.sum('time_in_secs').alias('total_time')).orderBy('total_time',ascending=False)"
   ]
  },
  {
   "cell_type": "code",
   "execution_count": 129,
   "metadata": {},
   "outputs": [
    {
     "ename": "IllegalArgumentException",
     "evalue": "'Cannot start query with name app_wise_query as a query with that name is already active'",
     "output_type": "error",
     "traceback": [
      "\u001b[0;31m----------------------------------------------------------------------\u001b[0m",
      "\u001b[0;31mPy4JJavaError\u001b[0m                        Traceback (most recent call last)",
      "\u001b[0;32m~/Documents/python_proj/pyspark/lib/python3.7/site-packages/pyspark/sql/utils.py\u001b[0m in \u001b[0;36mdeco\u001b[0;34m(*a, **kw)\u001b[0m\n\u001b[1;32m     62\u001b[0m         \u001b[0;32mtry\u001b[0m\u001b[0;34m:\u001b[0m\u001b[0;34m\u001b[0m\u001b[0;34m\u001b[0m\u001b[0m\n\u001b[0;32m---> 63\u001b[0;31m             \u001b[0;32mreturn\u001b[0m \u001b[0mf\u001b[0m\u001b[0;34m(\u001b[0m\u001b[0;34m*\u001b[0m\u001b[0ma\u001b[0m\u001b[0;34m,\u001b[0m \u001b[0;34m**\u001b[0m\u001b[0mkw\u001b[0m\u001b[0;34m)\u001b[0m\u001b[0;34m\u001b[0m\u001b[0;34m\u001b[0m\u001b[0m\n\u001b[0m\u001b[1;32m     64\u001b[0m         \u001b[0;32mexcept\u001b[0m \u001b[0mpy4j\u001b[0m\u001b[0;34m.\u001b[0m\u001b[0mprotocol\u001b[0m\u001b[0;34m.\u001b[0m\u001b[0mPy4JJavaError\u001b[0m \u001b[0;32mas\u001b[0m \u001b[0me\u001b[0m\u001b[0;34m:\u001b[0m\u001b[0;34m\u001b[0m\u001b[0;34m\u001b[0m\u001b[0m\n",
      "\u001b[0;32m~/Documents/python_proj/pyspark/lib/python3.7/site-packages/py4j/protocol.py\u001b[0m in \u001b[0;36mget_return_value\u001b[0;34m(answer, gateway_client, target_id, name)\u001b[0m\n\u001b[1;32m    327\u001b[0m                     \u001b[0;34m\"An error occurred while calling {0}{1}{2}.\\n\"\u001b[0m\u001b[0;34m.\u001b[0m\u001b[0;34m\u001b[0m\u001b[0;34m\u001b[0m\u001b[0m\n\u001b[0;32m--> 328\u001b[0;31m                     format(target_id, \".\", name), value)\n\u001b[0m\u001b[1;32m    329\u001b[0m             \u001b[0;32melse\u001b[0m\u001b[0;34m:\u001b[0m\u001b[0;34m\u001b[0m\u001b[0;34m\u001b[0m\u001b[0m\n",
      "\u001b[0;31mPy4JJavaError\u001b[0m: An error occurred while calling o1106.start.\n: java.lang.IllegalArgumentException: Cannot start query with name app_wise_query as a query with that name is already active\n\tat org.apache.spark.sql.streaming.StreamingQueryManager$$anonfun$startQuery$1.apply(StreamingQueryManager.scala:338)\n\tat org.apache.spark.sql.streaming.StreamingQueryManager$$anonfun$startQuery$1.apply(StreamingQueryManager.scala:336)\n\tat scala.Option.foreach(Option.scala:257)\n\tat org.apache.spark.sql.streaming.StreamingQueryManager.startQuery(StreamingQueryManager.scala:336)\n\tat org.apache.spark.sql.streaming.DataStreamWriter.start(DataStreamWriter.scala:267)\n\tat sun.reflect.NativeMethodAccessorImpl.invoke0(Native Method)\n\tat sun.reflect.NativeMethodAccessorImpl.invoke(NativeMethodAccessorImpl.java:62)\n\tat sun.reflect.DelegatingMethodAccessorImpl.invoke(DelegatingMethodAccessorImpl.java:43)\n\tat java.lang.reflect.Method.invoke(Method.java:498)\n\tat py4j.reflection.MethodInvoker.invoke(MethodInvoker.java:244)\n\tat py4j.reflection.ReflectionEngine.invoke(ReflectionEngine.java:357)\n\tat py4j.Gateway.invoke(Gateway.java:282)\n\tat py4j.commands.AbstractCommand.invokeMethod(AbstractCommand.java:132)\n\tat py4j.commands.CallCommand.execute(CallCommand.java:79)\n\tat py4j.GatewayConnection.run(GatewayConnection.java:238)\n\tat java.lang.Thread.run(Thread.java:748)\n",
      "\nDuring handling of the above exception, another exception occurred:\n",
      "\u001b[0;31mIllegalArgumentException\u001b[0m             Traceback (most recent call last)",
      "\u001b[0;32m<ipython-input-129-8e2bd62e092f>\u001b[0m in \u001b[0;36m<module>\u001b[0;34m\u001b[0m\n\u001b[0;32m----> 1\u001b[0;31m \u001b[0mapp_query\u001b[0m\u001b[0;34m=\u001b[0m\u001b[0;34m(\u001b[0m\u001b[0mapp_df\u001b[0m\u001b[0;34m.\u001b[0m\u001b[0mwriteStream\u001b[0m\u001b[0;34m.\u001b[0m\u001b[0mqueryName\u001b[0m\u001b[0;34m(\u001b[0m\u001b[0;34m'app_wise_query'\u001b[0m\u001b[0;34m)\u001b[0m\u001b[0;34m.\u001b[0m\u001b[0moutputMode\u001b[0m\u001b[0;34m(\u001b[0m\u001b[0;34m'complete'\u001b[0m\u001b[0;34m)\u001b[0m\u001b[0;34m.\u001b[0m\u001b[0mformat\u001b[0m\u001b[0;34m(\u001b[0m\u001b[0;34m'memory'\u001b[0m\u001b[0;34m)\u001b[0m\u001b[0;34m.\u001b[0m\u001b[0mstart\u001b[0m\u001b[0;34m(\u001b[0m\u001b[0;34m)\u001b[0m\u001b[0;34m)\u001b[0m\u001b[0;34m\u001b[0m\u001b[0;34m\u001b[0m\u001b[0m\n\u001b[0m",
      "\u001b[0;32m~/Documents/python_proj/pyspark/lib/python3.7/site-packages/pyspark/sql/streaming.py\u001b[0m in \u001b[0;36mstart\u001b[0;34m(self, path, format, outputMode, partitionBy, queryName, **options)\u001b[0m\n\u001b[1;32m   1106\u001b[0m             \u001b[0mself\u001b[0m\u001b[0;34m.\u001b[0m\u001b[0mqueryName\u001b[0m\u001b[0;34m(\u001b[0m\u001b[0mqueryName\u001b[0m\u001b[0;34m)\u001b[0m\u001b[0;34m\u001b[0m\u001b[0;34m\u001b[0m\u001b[0m\n\u001b[1;32m   1107\u001b[0m         \u001b[0;32mif\u001b[0m \u001b[0mpath\u001b[0m \u001b[0;32mis\u001b[0m \u001b[0;32mNone\u001b[0m\u001b[0;34m:\u001b[0m\u001b[0;34m\u001b[0m\u001b[0;34m\u001b[0m\u001b[0m\n\u001b[0;32m-> 1108\u001b[0;31m             \u001b[0;32mreturn\u001b[0m \u001b[0mself\u001b[0m\u001b[0;34m.\u001b[0m\u001b[0m_sq\u001b[0m\u001b[0;34m(\u001b[0m\u001b[0mself\u001b[0m\u001b[0;34m.\u001b[0m\u001b[0m_jwrite\u001b[0m\u001b[0;34m.\u001b[0m\u001b[0mstart\u001b[0m\u001b[0;34m(\u001b[0m\u001b[0;34m)\u001b[0m\u001b[0;34m)\u001b[0m\u001b[0;34m\u001b[0m\u001b[0;34m\u001b[0m\u001b[0m\n\u001b[0m\u001b[1;32m   1109\u001b[0m         \u001b[0;32melse\u001b[0m\u001b[0;34m:\u001b[0m\u001b[0;34m\u001b[0m\u001b[0;34m\u001b[0m\u001b[0m\n\u001b[1;32m   1110\u001b[0m             \u001b[0;32mreturn\u001b[0m \u001b[0mself\u001b[0m\u001b[0;34m.\u001b[0m\u001b[0m_sq\u001b[0m\u001b[0;34m(\u001b[0m\u001b[0mself\u001b[0m\u001b[0;34m.\u001b[0m\u001b[0m_jwrite\u001b[0m\u001b[0;34m.\u001b[0m\u001b[0mstart\u001b[0m\u001b[0;34m(\u001b[0m\u001b[0mpath\u001b[0m\u001b[0;34m)\u001b[0m\u001b[0;34m)\u001b[0m\u001b[0;34m\u001b[0m\u001b[0;34m\u001b[0m\u001b[0m\n",
      "\u001b[0;32m~/Documents/python_proj/pyspark/lib/python3.7/site-packages/py4j/java_gateway.py\u001b[0m in \u001b[0;36m__call__\u001b[0;34m(self, *args)\u001b[0m\n\u001b[1;32m   1255\u001b[0m         \u001b[0manswer\u001b[0m \u001b[0;34m=\u001b[0m \u001b[0mself\u001b[0m\u001b[0;34m.\u001b[0m\u001b[0mgateway_client\u001b[0m\u001b[0;34m.\u001b[0m\u001b[0msend_command\u001b[0m\u001b[0;34m(\u001b[0m\u001b[0mcommand\u001b[0m\u001b[0;34m)\u001b[0m\u001b[0;34m\u001b[0m\u001b[0;34m\u001b[0m\u001b[0m\n\u001b[1;32m   1256\u001b[0m         return_value = get_return_value(\n\u001b[0;32m-> 1257\u001b[0;31m             answer, self.gateway_client, self.target_id, self.name)\n\u001b[0m\u001b[1;32m   1258\u001b[0m \u001b[0;34m\u001b[0m\u001b[0m\n\u001b[1;32m   1259\u001b[0m         \u001b[0;32mfor\u001b[0m \u001b[0mtemp_arg\u001b[0m \u001b[0;32min\u001b[0m \u001b[0mtemp_args\u001b[0m\u001b[0;34m:\u001b[0m\u001b[0;34m\u001b[0m\u001b[0;34m\u001b[0m\u001b[0m\n",
      "\u001b[0;32m~/Documents/python_proj/pyspark/lib/python3.7/site-packages/pyspark/sql/utils.py\u001b[0m in \u001b[0;36mdeco\u001b[0;34m(*a, **kw)\u001b[0m\n\u001b[1;32m     77\u001b[0m                 \u001b[0;32mraise\u001b[0m \u001b[0mQueryExecutionException\u001b[0m\u001b[0;34m(\u001b[0m\u001b[0ms\u001b[0m\u001b[0;34m.\u001b[0m\u001b[0msplit\u001b[0m\u001b[0;34m(\u001b[0m\u001b[0;34m': '\u001b[0m\u001b[0;34m,\u001b[0m \u001b[0;36m1\u001b[0m\u001b[0;34m)\u001b[0m\u001b[0;34m[\u001b[0m\u001b[0;36m1\u001b[0m\u001b[0;34m]\u001b[0m\u001b[0;34m,\u001b[0m \u001b[0mstackTrace\u001b[0m\u001b[0;34m)\u001b[0m\u001b[0;34m\u001b[0m\u001b[0;34m\u001b[0m\u001b[0m\n\u001b[1;32m     78\u001b[0m             \u001b[0;32mif\u001b[0m \u001b[0ms\u001b[0m\u001b[0;34m.\u001b[0m\u001b[0mstartswith\u001b[0m\u001b[0;34m(\u001b[0m\u001b[0;34m'java.lang.IllegalArgumentException: '\u001b[0m\u001b[0;34m)\u001b[0m\u001b[0;34m:\u001b[0m\u001b[0;34m\u001b[0m\u001b[0;34m\u001b[0m\u001b[0m\n\u001b[0;32m---> 79\u001b[0;31m                 \u001b[0;32mraise\u001b[0m \u001b[0mIllegalArgumentException\u001b[0m\u001b[0;34m(\u001b[0m\u001b[0ms\u001b[0m\u001b[0;34m.\u001b[0m\u001b[0msplit\u001b[0m\u001b[0;34m(\u001b[0m\u001b[0;34m': '\u001b[0m\u001b[0;34m,\u001b[0m \u001b[0;36m1\u001b[0m\u001b[0;34m)\u001b[0m\u001b[0;34m[\u001b[0m\u001b[0;36m1\u001b[0m\u001b[0;34m]\u001b[0m\u001b[0;34m,\u001b[0m \u001b[0mstackTrace\u001b[0m\u001b[0;34m)\u001b[0m\u001b[0;34m\u001b[0m\u001b[0;34m\u001b[0m\u001b[0m\n\u001b[0m\u001b[1;32m     80\u001b[0m             \u001b[0;32mraise\u001b[0m\u001b[0;34m\u001b[0m\u001b[0;34m\u001b[0m\u001b[0m\n\u001b[1;32m     81\u001b[0m     \u001b[0;32mreturn\u001b[0m \u001b[0mdeco\u001b[0m\u001b[0;34m\u001b[0m\u001b[0;34m\u001b[0m\u001b[0m\n",
      "\u001b[0;31mIllegalArgumentException\u001b[0m: 'Cannot start query with name app_wise_query as a query with that name is already active'"
     ]
    }
   ],
   "source": [
    "app_query=(app_df.writeStream.queryName('app_wise_query').outputMode('complete').format('memory').start())"
   ]
  },
  {
   "cell_type": "code",
   "execution_count": 130,
   "metadata": {},
   "outputs": [
    {
     "data": {
      "text/html": [
       "<div>\n",
       "<style scoped>\n",
       "    .dataframe tbody tr th:only-of-type {\n",
       "        vertical-align: middle;\n",
       "    }\n",
       "\n",
       "    .dataframe tbody tr th {\n",
       "        vertical-align: top;\n",
       "    }\n",
       "\n",
       "    .dataframe thead th {\n",
       "        text-align: right;\n",
       "    }\n",
       "</style>\n",
       "<table border=\"1\" class=\"dataframe\">\n",
       "  <thead>\n",
       "    <tr style=\"text-align: right;\">\n",
       "      <th></th>\n",
       "      <th>app</th>\n",
       "      <th>total_time</th>\n",
       "    </tr>\n",
       "  </thead>\n",
       "  <tbody>\n",
       "    <tr>\n",
       "      <th>0</th>\n",
       "      <td>FB</td>\n",
       "      <td>5020</td>\n",
       "    </tr>\n",
       "    <tr>\n",
       "      <th>1</th>\n",
       "      <td>Insta</td>\n",
       "      <td>530</td>\n",
       "    </tr>\n",
       "    <tr>\n",
       "      <th>2</th>\n",
       "      <td>Twitter</td>\n",
       "      <td>110</td>\n",
       "    </tr>\n",
       "  </tbody>\n",
       "</table>\n",
       "</div>"
      ],
      "text/plain": [
       "       app  total_time\n",
       "0       FB        5020\n",
       "1    Insta         530\n",
       "2  Twitter         110"
      ]
     },
     "execution_count": 130,
     "metadata": {},
     "output_type": "execute_result"
    }
   ],
   "source": [
    "spark.sql(\"select * from app_wise_query \").toPandas().head(5)"
   ]
  },
  {
   "cell_type": "code",
   "execution_count": 136,
   "metadata": {},
   "outputs": [],
   "source": [
    "df_4=spark.createDataFrame([(\"XN203\",'FB',500,30),(\"XN201\",'Insta',30,19),(\"XN202\",'Twitter',100,45)],[\"user_id\",\"app\",\"time_in_secs\",\"age\"]).write.csv(\"csv_folder\",mode='append')"
   ]
  },
  {
   "cell_type": "code",
   "execution_count": 137,
   "metadata": {},
   "outputs": [
    {
     "data": {
      "text/html": [
       "<div>\n",
       "<style scoped>\n",
       "    .dataframe tbody tr th:only-of-type {\n",
       "        vertical-align: middle;\n",
       "    }\n",
       "\n",
       "    .dataframe tbody tr th {\n",
       "        vertical-align: top;\n",
       "    }\n",
       "\n",
       "    .dataframe thead th {\n",
       "        text-align: right;\n",
       "    }\n",
       "</style>\n",
       "<table border=\"1\" class=\"dataframe\">\n",
       "  <thead>\n",
       "    <tr style=\"text-align: right;\">\n",
       "      <th></th>\n",
       "      <th>app</th>\n",
       "      <th>total_time</th>\n",
       "    </tr>\n",
       "  </thead>\n",
       "  <tbody>\n",
       "    <tr>\n",
       "      <th>0</th>\n",
       "      <td>FB</td>\n",
       "      <td>5520</td>\n",
       "    </tr>\n",
       "    <tr>\n",
       "      <th>1</th>\n",
       "      <td>Insta</td>\n",
       "      <td>560</td>\n",
       "    </tr>\n",
       "    <tr>\n",
       "      <th>2</th>\n",
       "      <td>Twitter</td>\n",
       "      <td>210</td>\n",
       "    </tr>\n",
       "  </tbody>\n",
       "</table>\n",
       "</div>"
      ],
      "text/plain": [
       "       app  total_time\n",
       "0       FB        5520\n",
       "1    Insta         560\n",
       "2  Twitter         210"
      ]
     },
     "execution_count": 137,
     "metadata": {},
     "output_type": "execute_result"
    }
   ],
   "source": [
    "spark.sql(\"select * from app_wise_query \").toPandas().head(5)"
   ]
  },
  {
   "cell_type": "code",
   "execution_count": 138,
   "metadata": {},
   "outputs": [],
   "source": [
    "age_df=data.groupBy('app').agg(F.avg('age').alias('mean_age')).orderBy('mean_age',ascending=False)"
   ]
  },
  {
   "cell_type": "code",
   "execution_count": 139,
   "metadata": {},
   "outputs": [],
   "source": [
    "age_query=(age_df.writeStream.queryName('age_query').outputMode('complete').format('memory').start())"
   ]
  },
  {
   "cell_type": "code",
   "execution_count": 140,
   "metadata": {},
   "outputs": [],
   "source": [
    "df_5=spark.createDataFrame([(\"XN210\",'FB',500,50),(\"XN255\",'Insta',30,23),(\"XN222\",'Twitter',100,30)],[\"user_id\",\"app\",\"time_in_secs\",\"age\"]).write.csv(\"csv_folder\",mode='append')"
   ]
  },
  {
   "cell_type": "code",
   "execution_count": 143,
   "metadata": {},
   "outputs": [
    {
     "data": {
      "text/html": [
       "<div>\n",
       "<style scoped>\n",
       "    .dataframe tbody tr th:only-of-type {\n",
       "        vertical-align: middle;\n",
       "    }\n",
       "\n",
       "    .dataframe tbody tr th {\n",
       "        vertical-align: top;\n",
       "    }\n",
       "\n",
       "    .dataframe thead th {\n",
       "        text-align: right;\n",
       "    }\n",
       "</style>\n",
       "<table border=\"1\" class=\"dataframe\">\n",
       "  <thead>\n",
       "    <tr style=\"text-align: right;\">\n",
       "      <th></th>\n",
       "      <th>app</th>\n",
       "      <th>mean_age</th>\n",
       "    </tr>\n",
       "  </thead>\n",
       "  <tbody>\n",
       "    <tr>\n",
       "      <th>0</th>\n",
       "      <td>Twitter</td>\n",
       "      <td>39.800000</td>\n",
       "    </tr>\n",
       "    <tr>\n",
       "      <th>1</th>\n",
       "      <td>FB</td>\n",
       "      <td>30.727273</td>\n",
       "    </tr>\n",
       "    <tr>\n",
       "      <th>2</th>\n",
       "      <td>Insta</td>\n",
       "      <td>24.200000</td>\n",
       "    </tr>\n",
       "  </tbody>\n",
       "</table>\n",
       "</div>"
      ],
      "text/plain": [
       "       app   mean_age\n",
       "0  Twitter  39.800000\n",
       "1       FB  30.727273\n",
       "2    Insta  24.200000"
      ]
     },
     "execution_count": 143,
     "metadata": {},
     "output_type": "execute_result"
    }
   ],
   "source": [
    "spark.sql(\"select * from age_query \").toPandas().head(5)"
   ]
  },
  {
   "cell_type": "code",
   "execution_count": 144,
   "metadata": {},
   "outputs": [],
   "source": [
    "app_df=spark.createDataFrame([('FB','FACEBOOK'),('Insta','INSTAGRAM'),('Twitter','TWITTER')],[\"app\", \"full_name\"])"
   ]
  },
  {
   "cell_type": "code",
   "execution_count": 145,
   "metadata": {},
   "outputs": [
    {
     "name": "stdout",
     "output_type": "stream",
     "text": [
      "+-------+---------+\n",
      "|    app|full_name|\n",
      "+-------+---------+\n",
      "|     FB| FACEBOOK|\n",
      "|  Insta|INSTAGRAM|\n",
      "|Twitter|  TWITTER|\n",
      "+-------+---------+\n",
      "\n"
     ]
    }
   ],
   "source": [
    "app_df.show()"
   ]
  },
  {
   "cell_type": "code",
   "execution_count": null,
   "metadata": {},
   "outputs": [],
   "source": []
  }
 ],
 "metadata": {
  "kernelspec": {
   "display_name": "Python 3",
   "language": "python",
   "name": "python3"
  },
  "language_info": {
   "codemirror_mode": {
    "name": "ipython",
    "version": 3
   },
   "file_extension": ".py",
   "mimetype": "text/x-python",
   "name": "python",
   "nbconvert_exporter": "python",
   "pygments_lexer": "ipython3",
   "version": "3.7.7"
  }
 },
 "nbformat": 4,
 "nbformat_minor": 4
}
